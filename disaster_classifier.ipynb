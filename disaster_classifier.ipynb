{
 "cells": [
  {
   "cell_type": "code",
   "execution_count": 23,
   "metadata": {},
   "outputs": [],
   "source": [
    "import os\n",
    "import numpy as np\n",
    "import pandas as pd\n",
    "import cv2\n",
    "from tqdm import tqdm\n",
    "import torch\n",
    "import torch.nn as nn\n",
    "import torch.nn.functional as F\n",
    "import torch.optim as optim\n",
    "import matplotlib.pyplot as plt"
   ]
  },
  {
   "cell_type": "markdown",
   "metadata": {},
   "source": [
    "Preprocessing the dataset into one hot encoded list"
   ]
  },
  {
   "cell_type": "code",
   "execution_count": 24,
   "metadata": {},
   "outputs": [],
   "source": [
    "rebuild_data = True\n",
    "if(os.path.exists(\"Training_set.npy\") and os.path.exists(\"Validation_set.npy\")):\n",
    "    rebuild_data = False\n",
    "\n",
    "class Preprocess():\n",
    "    Img_size = 50\n",
    "    earthquake = \"train+val/train/Earthquake\"\n",
    "    flood = \"train+val/train/Flood\"\n",
    "    hurricane = \"train+val/train/Hurricane\"\n",
    "    landslides = \"train+val/train/Landslides\"\n",
    "    wildfire = \"train+val/train/Wildfire\"\n",
    "\n",
    "    count_earthquake = 0\n",
    "    count_flood = 0\n",
    "    count_hurricane = 0\n",
    "    count_landslides = 0\n",
    "    count_wildfire = 0\n",
    "\n",
    "    earthquake_val = \"train+val/validation/Earthquake\" \n",
    "    flood_val = \"train+val/validation/Flood\"\n",
    "    hurricane_val = \"train+val/validation/Hurricane\"\n",
    "    landslides_val = \"train+val/validation/Landslides\"\n",
    "    wildfire_val = \"train+val/validation/Wildfire\"\n",
    "\n",
    "    Train_set = []\n",
    "    Val_set = []\n",
    "    labels = {earthquake:0 , flood:1 , hurricane:2 , landslides:3 , wildfire:4}\n",
    "    labels_val = {earthquake_val:0 , flood_val:1 , hurricane_val:2 , landslides_val:3 , wildfire_val:4}\n",
    "\n",
    "    def make_train_set(self):\n",
    "        for label in self.labels:\n",
    "            for f in tqdm(os.listdir(label)):\n",
    "                try:\n",
    "                    path = os.path.join(label , f)\n",
    "                    img = cv2.imread(path , cv2.IMREAD_GRAYSCALE)\n",
    "                    img = cv2.resize(img , (self.Img_size , self.Img_size))\n",
    "                    img_label = np.eye(5)[self.labels[label]]\n",
    "                    self.Train_set.append([np.array(img) , img_label])\n",
    "                    if label == self.earthquake:\n",
    "                        self.count_earthquake+=1\n",
    "                    elif label == self.flood:\n",
    "                        self.count_flood += 1\n",
    "                    elif label == self.hurricane:\n",
    "                        self.count_hurricane += 1\n",
    "                    elif label == self.landslides:\n",
    "                        self.count_landslides += 1\n",
    "                    elif label == self.wildfire:\n",
    "                        self.count_wildfire += 1\n",
    "                except Exception as e:\n",
    "                    pass\n",
    "\n",
    "        np.random.shuffle(self.Train_set)\n",
    "        self.Train_set = np.asarray(self.Train_set , dtype = object)\n",
    "        np.save(\"Training_set.npy\" , self.Train_set)\n",
    "        print(\"earthquake:\" , self.count_earthquake)\n",
    "        print(\"flood:\" , self.count_flood)\n",
    "        print(\"hurricane:\" , self.count_hurricane)\n",
    "        print(\"landslides:\" , self.count_landslides)\n",
    "        print(\"wildfire:\" , self.count_wildfire)\n",
    "\n",
    "    def make_val_set(self):\n",
    "        for label in self.labels_val:\n",
    "            for f in tqdm(os.listdir(label)):\n",
    "                try:\n",
    "                    path = os.path.join(label , f)\n",
    "                    img = cv2.imread(path , cv2.IMREAD_GRAYSCALE)\n",
    "                    img = cv2.resize(img , (self.Img_size , self.Img_size))\n",
    "                    img_label = np.eye(5)[self.labels_val[label]]\n",
    "                    self.Val_set.append([np.array(img) , img_label])\n",
    "                except Exception as e:\n",
    "                    pass\n",
    "\n",
    "        np.random.shuffle(self.Val_set)\n",
    "        self.Val_set = np.asarray(self.Val_set , dtype = object)\n",
    "        np.save(\"Validation_set.npy\" , self.Val_set)\n",
    "\n",
    "if rebuild_data:\n",
    "    preprocess = Preprocess()\n",
    "    preprocess.make_train_set()\n",
    "    preprocess.make_val_set()"
   ]
  },
  {
   "cell_type": "code",
   "execution_count": 25,
   "metadata": {},
   "outputs": [],
   "source": [
    "training_set = np.load(\"Training_set.npy\" , allow_pickle=True)\n",
    "validation_set = np.load(\"Validation_set.npy\" , allow_pickle=True)"
   ]
  },
  {
   "cell_type": "code",
   "execution_count": 26,
   "metadata": {},
   "outputs": [],
   "source": [
    "class Net(nn.Module):\n",
    "    def __init__(self ):\n",
    "        super().__init__()\n",
    "        self.conv1 = nn.Conv2d(1 , 32 , kernel_size=5)\n",
    "        self.conv2 = nn.Conv2d(32 , 64 , kernel_size=5)\n",
    "        self.conv3 = nn.Conv2d(64 , 128 , kernel_size=5)\n",
    "\n",
    "        self.flatten_dim = None\n",
    "        ##definig a temp x to get the flatten dimensions after a forward pass\n",
    "        x = torch.randn(50 , 50).view(-1 , 1 , 50 , 50)\n",
    "        self.convf(x)\n",
    "\n",
    "        self.fc1 = nn.Linear(self.flatten_dim , 512)\n",
    "        self.fc2 = nn.Linear(512 , 5)\n",
    "        \n",
    "\n",
    "    def convf(self , x ):\n",
    "        x = F.max_pool2d(F.relu(self.conv1(x)) , (2 , 2))\n",
    "        x = F.max_pool2d(F.relu(self.conv2(x)) , (2 , 2))\n",
    "        x = F.max_pool2d(F.relu(self.conv3(x)) , (2 , 2))\n",
    "\n",
    "        if self.flatten_dim == None:\n",
    "            self.flatten_dim = x[0].shape[0]*x[0].shape[1]*x[0].shape[2]\n",
    "\n",
    "        return x\n",
    "\n",
    "    def forward(self , x):\n",
    "        x = self.convf(x)\n",
    "        x = x.view(-1 , self.flatten_dim)\n",
    "        \n",
    "        x = F.relu(self.fc1(x))\n",
    "        x = self.fc2(x)\n",
    "\n",
    "        return F.softmax(x ,dim = 1 )\n",
    "\n",
    "net = Net()"
   ]
  },
  {
   "cell_type": "code",
   "execution_count": 27,
   "metadata": {},
   "outputs": [],
   "source": [
    "training_set_x = torch.tensor(np.array([i[0] for i in training_set])).view(-1 , 50 , 50)\n",
    "training_set_x = training_set_x/255.0\n",
    "training_set_y = torch.tensor(np.array([i[1] for i in training_set]))\n",
    "\n",
    "validation_set_x = torch.tensor(np.array([i[0] for i in validation_set])).view(-1 , 50 , 50)\n",
    "validation_set_x = validation_set_x/255.0\n",
    "validation_set_y = torch.tensor(np.array([i[1] for i in validation_set]))\n"
   ]
  },
  {
   "cell_type": "code",
   "execution_count": 28,
   "metadata": {},
   "outputs": [],
   "source": [
    "BATCH_SIZE = 10\n",
    "EPOCS = 5\n",
    "LEARNING_RATE = 0.001\n",
    "\n",
    "optimizer = optim.Adam(net.parameters() , LEARNING_RATE)\n",
    "loss_function = nn.MSELoss()\n",
    "\n",
    "def train(net):\n",
    "    for epoc in range(EPOCS):\n",
    "        for i in tqdm(range(0 , len(training_set_x) , BATCH_SIZE)):\n",
    "            x = training_set_x[i:i+BATCH_SIZE].view(-1 , 1 , 50 , 50).float()\n",
    "            y = training_set_y[i:i+BATCH_SIZE].float()\n",
    "            net.zero_grad()\n",
    "            output = net(x)\n",
    "            loss = loss_function(output, y)\n",
    "            loss.backward()\n",
    "            optimizer.step()\n",
    "        print(f\"loss after {epoc+1} iterations: {loss}\")"
   ]
  },
  {
   "cell_type": "code",
   "execution_count": 29,
   "metadata": {},
   "outputs": [],
   "source": [
    "def test(net):\n",
    "    correct = 0\n",
    "    total = 0   \n",
    "    with torch.no_grad():\n",
    "        for i in tqdm(range(len(validation_set_x))):\n",
    "            actual_class = torch.argmax(validation_set_y[i])\n",
    "            predicted_class = torch.argmax(net(validation_set_x[i].view(-1 , 1 , 50 , 50)))\n",
    "            if predicted_class==actual_class:\n",
    "                correct +=1\n",
    "            total+=1\n",
    "    print(f'Accuracy on test set: {round(correct/total*100 , 3)}')"
   ]
  },
  {
   "cell_type": "code",
   "execution_count": 30,
   "metadata": {},
   "outputs": [
    {
     "name": "stderr",
     "output_type": "stream",
     "text": [
      "100%|██████████| 549/549 [00:05<00:00, 95.38it/s] \n"
     ]
    },
    {
     "name": "stdout",
     "output_type": "stream",
     "text": [
      "loss after 1 iterations: 0.227981835603714\n"
     ]
    },
    {
     "name": "stderr",
     "output_type": "stream",
     "text": [
      "100%|██████████| 549/549 [00:05<00:00, 101.61it/s]\n"
     ]
    },
    {
     "name": "stdout",
     "output_type": "stream",
     "text": [
      "loss after 2 iterations: 0.2201642096042633\n"
     ]
    },
    {
     "name": "stderr",
     "output_type": "stream",
     "text": [
      "100%|██████████| 549/549 [00:05<00:00, 101.68it/s]\n"
     ]
    },
    {
     "name": "stdout",
     "output_type": "stream",
     "text": [
      "loss after 3 iterations: 0.21303586661815643\n"
     ]
    },
    {
     "name": "stderr",
     "output_type": "stream",
     "text": [
      "100%|██████████| 549/549 [00:05<00:00, 101.40it/s]\n"
     ]
    },
    {
     "name": "stdout",
     "output_type": "stream",
     "text": [
      "loss after 4 iterations: 0.21627095341682434\n"
     ]
    },
    {
     "name": "stderr",
     "output_type": "stream",
     "text": [
      "100%|██████████| 549/549 [00:05<00:00, 101.80it/s]"
     ]
    },
    {
     "name": "stdout",
     "output_type": "stream",
     "text": [
      "loss after 5 iterations: 0.21183332800865173\n"
     ]
    },
    {
     "name": "stderr",
     "output_type": "stream",
     "text": [
      "\n"
     ]
    }
   ],
   "source": [
    "train(net)"
   ]
  },
  {
   "cell_type": "code",
   "execution_count": 31,
   "metadata": {},
   "outputs": [
    {
     "name": "stderr",
     "output_type": "stream",
     "text": [
      "100%|██████████| 1284/1284 [00:00<00:00, 1289.96it/s]"
     ]
    },
    {
     "name": "stdout",
     "output_type": "stream",
     "text": [
      "Accuracy on test set: 56.698\n"
     ]
    },
    {
     "name": "stderr",
     "output_type": "stream",
     "text": [
      "\n"
     ]
    }
   ],
   "source": [
    "test(net)"
   ]
  },
  {
   "cell_type": "code",
   "execution_count": 37,
   "metadata": {},
   "outputs": [],
   "source": [
    "def forw_pass(x , y , train = False):\n",
    "    if train:\n",
    "        net.zero_grad()\n",
    "    try:\n",
    "        output = net(x.view(-1 , 1, 50 , 50))\n",
    "        matches = [torch.argmax(i)==torch.argmax(j) for i , j in zip(y , output)]\n",
    "        accuracy = matches.count(True)/len(matches)*100\n",
    "        if train:\n",
    "            loss = loss_function(output , y)\n",
    "            loss.backward()\n",
    "            optimizer.step()\n",
    "\n",
    "        print(f\"Accuracy: {accuracy}\")\n",
    "\n",
    "    except Exception as e:\n",
    "        print(\"Wrong image dimensions!!\")\n"
   ]
  },
  {
   "cell_type": "code",
   "execution_count": 38,
   "metadata": {},
   "outputs": [
    {
     "name": "stdout",
     "output_type": "stream",
     "text": [
      "Accuracy: 56.69781931464174\n"
     ]
    }
   ],
   "source": [
    "forw_pass(validation_set_x , validation_set_y)"
   ]
  },
  {
   "cell_type": "markdown",
   "metadata": {},
   "source": [
    "<h2>Test on your own image</h2>"
   ]
  },
  {
   "cell_type": "code",
   "execution_count": 39,
   "metadata": {},
   "outputs": [
    {
     "name": "stdout",
     "output_type": "stream",
     "text": [
      "Flood\n"
     ]
    }
   ],
   "source": [
    "def predictCatOrDog(path):\n",
    "    img = cv2.imread(path , cv2.IMREAD_GRAYSCALE)\n",
    "    img = cv2.resize(img , (50 , 50))\n",
    "\n",
    "    img = torch.tensor(img).view(-1 , 1 , 50 , 50)\n",
    "    img = img/255.0\n",
    "\n",
    "    prediction = torch.argmax(net(img))\n",
    "    if prediction==0:\n",
    "        print(\"Earthquake\")\n",
    "    elif prediction == 1:\n",
    "        print(\"Flood\")\n",
    "    elif prediction == 2:\n",
    "        print(\"Hurricane\")\n",
    "    elif prediction == 3:\n",
    "        print(\"landslide\")\n",
    "    elif prediction == 4:\n",
    "        print(\"wildfire\")\n"
   ]
  },
  {
   "cell_type": "code",
   "execution_count": null,
   "metadata": {},
   "outputs": [],
   "source": []
  }
 ],
 "metadata": {
  "kernelspec": {
   "display_name": "Python 3",
   "language": "python",
   "name": "python3"
  },
  "language_info": {
   "codemirror_mode": {
    "name": "ipython",
    "version": 3
   },
   "file_extension": ".py",
   "mimetype": "text/x-python",
   "name": "python",
   "nbconvert_exporter": "python",
   "pygments_lexer": "ipython3",
   "version": "3.11.5"
  },
  "orig_nbformat": 4
 },
 "nbformat": 4,
 "nbformat_minor": 2
}
